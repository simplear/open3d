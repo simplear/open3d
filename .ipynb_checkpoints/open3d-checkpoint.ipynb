{
 "cells": [
  {
   "cell_type": "markdown",
   "metadata": {},
   "source": [
    "# open3d"
   ]
  },
  {
   "cell_type": "markdown",
   "metadata": {},
   "source": [
    "## condaによるインストール\n",
    "- OS : Ubuntu 16.04\n",
    "- Env : python 3.7\n",
    "- Command :\n",
    "```\n",
    "conda install -c open3d-admin open3d\n",
    "```"
   ]
  },
  {
   "cell_type": "markdown",
   "metadata": {},
   "source": [
    "## インポート"
   ]
  },
  {
   "cell_type": "code",
   "execution_count": 139,
   "metadata": {
    "scrolled": true
   },
   "outputs": [],
   "source": [
    "import numpy as np\n",
    "import open3d as o3d"
   ]
  },
  {
   "cell_type": "markdown",
   "metadata": {},
   "source": [
    "## バージョン (本確認は ver.0.9.0.0)"
   ]
  },
  {
   "cell_type": "code",
   "execution_count": 140,
   "metadata": {},
   "outputs": [
    {
     "data": {
      "text/plain": [
       "'0.9.0.0'"
      ]
     },
     "execution_count": 140,
     "metadata": {},
     "output_type": "execute_result"
    }
   ],
   "source": [
    "o3d.__version__"
   ]
  },
  {
   "cell_type": "markdown",
   "metadata": {},
   "source": [
    "## PCDの読み込み / 表示"
   ]
  },
  {
   "cell_type": "code",
   "execution_count": 184,
   "metadata": {},
   "outputs": [],
   "source": [
    "pcd = o3d.io.read_point_cloud(\"./data/xw_a.ply\")\n",
    "o3d.visualization.draw_geometries([pcd])"
   ]
  },
  {
   "cell_type": "markdown",
   "metadata": {},
   "source": [
    "## 並進回転\n",
    "- refer\n",
    "    - http://www.open3d.org/docs/release/python_api/open3d.geometry.PointCloud.html\n",
    "    - https://www.mynote-jp.com/entry/2016/04/30/201249\n",
    "    - https://imagingsolution.blog.fc2.com/blog-entry-105.html"
   ]
  },
  {
   "cell_type": "code",
   "execution_count": 112,
   "metadata": {},
   "outputs": [],
   "source": [
    "import math\n",
    "\n",
    "def deg2rad (ang_d):\n",
    "    return ang_d * math.pi / 180\n",
    "def matrix_rotate_x (ang_d):\n",
    "    th = deg2rad(ang_d)\n",
    "    return np.array([[1,0,0],[0,math.cos(th),-math.sin(th)],[0,math.sin(th),math.cos(th)]])\n",
    "def matrix_rotate_y (ang_d):\n",
    "    th = deg2rad(ang_d)\n",
    "    return np.array([[math.cos(th),0,math.sin(th)],[0,1,0],[-math.sin(th),0,math.cos(th)]])\n",
    "def matrix_rotate_z (ang_d):\n",
    "    th = deg2rad(ang_d)\n",
    "    return np.array([[math.cos(th),-math.sin(th),0],[math.sin(th),math.cos(th),0],[0,0,1]])\n",
    "def matrix_transform (Tx,Ty,Tz):\n",
    "    return np.array([[1,0,0,Tx],[0,1,0,Ty],[0,0,1,Tz],[0,0,0,1]])\n",
    "def matrix_translate (Tx,Ty,Tz):\n",
    "    return np.array([Tx,Ty,Tz])"
   ]
  },
  {
   "cell_type": "markdown",
   "metadata": {},
   "source": [
    "### 角度計算例"
   ]
  },
  {
   "cell_type": "code",
   "execution_count": 133,
   "metadata": {},
   "outputs": [
    {
     "data": {
      "text/plain": [
       "0.7071067811865476"
      ]
     },
     "execution_count": 133,
     "metadata": {},
     "output_type": "execute_result"
    }
   ],
   "source": [
    "th = deg2rad(45)\n",
    "math.cos(th)"
   ]
  },
  {
   "cell_type": "markdown",
   "metadata": {},
   "source": [
    "### 並進"
   ]
  },
  {
   "cell_type": "code",
   "execution_count": 134,
   "metadata": {},
   "outputs": [],
   "source": [
    "trf = matrix_translate(1,0,0)                     # (Tx, Ty, Tz)\n",
    "pcd1 = o3d.io.read_point_cloud(\"./data/xw_a.ply\") # read\n",
    "pcd2 = o3d.io.read_point_cloud(\"./data/xw_a.ply\") # read\n",
    "o3d.geometry.PointCloud.translate(pcd1,trf)       # move\n",
    "o3d.visualization.draw_geometries([pcd1,pcd2])    # show rotated pcd"
   ]
  },
  {
   "cell_type": "markdown",
   "metadata": {},
   "source": [
    "### 回転"
   ]
  },
  {
   "cell_type": "code",
   "execution_count": 98,
   "metadata": {},
   "outputs": [],
   "source": [
    "rot = matrix_rotate_z(45)                        # define rotation\n",
    "pcd = o3d.io.read_point_cloud(\"./data/xw_a.ply\") # read\n",
    "o3d.visualization.draw_geometries([pcd])         # show\n",
    "o3d.geometry.PointCloud.rotate(pcd,rot)          # rotate\n",
    "o3d.visualization.draw_geometries([pcd])         # show rotated pcd"
   ]
  },
  {
   "cell_type": "markdown",
   "metadata": {},
   "source": [
    "## 単色塗り"
   ]
  },
  {
   "cell_type": "code",
   "execution_count": 100,
   "metadata": {
    "collapsed": true
   },
   "outputs": [],
   "source": [
    "color = [0,0,255]                                       # R,G,B\n",
    "pcd = o3d.io.read_point_cloud(\"./data/xw_a.ply\")        # read\n",
    "o3d.visualization.draw_geometries([pcd])                # show\n",
    "o3d.geometry.PointCloud.paint_uniform_color(pcd, color) # paint\n",
    "o3d.visualization.draw_geometries([pcd])                # show"
   ]
  },
  {
   "cell_type": "markdown",
   "metadata": {},
   "source": [
    "### Boundary Box"
   ]
  },
  {
   "cell_type": "code",
   "execution_count": 183,
   "metadata": {},
   "outputs": [
    {
     "name": "stdout",
     "output_type": "stream",
     "text": [
      "[ 0.06407269  0.03933508 -0.41850696]\n",
      "[0.55960845 0.52530345 0.06435308]\n"
     ]
    }
   ],
   "source": [
    "bb=o3d.geometry.OrientedBoundingBox.create_from_points(pcd.points) ## get boundarybox of a pcd\n",
    "print(o3d.geometry.OrientedBoundingBox.get_center(bb))             ## show origin\n",
    "print(o3d.geometry.OrientedBoundingBox.get_max_bound(bb))          ## show max boundarybox"
   ]
  },
  {
   "cell_type": "markdown",
   "metadata": {},
   "source": [
    "## 以下、検討中"
   ]
  },
  {
   "cell_type": "markdown",
   "metadata": {},
   "source": [
    "## 表示のあれこれ\n",
    "- http://www.open3d.org/docs/release/tutorial/Advanced/customized_visualization.html#capture-images-in-a-customized-animation"
   ]
  },
  {
   "cell_type": "code",
   "execution_count": 146,
   "metadata": {},
   "outputs": [],
   "source": [
    "def custom_draw_geometry(pcd):\n",
    "    # The following code achieves the same effect as:\n",
    "    # o3d.visualization.draw_geometries([pcd])\n",
    "    vis = o3d.visualization.Visualizer()\n",
    "    vis.create_window()\n",
    "    vis.add_geometry(pcd)\n",
    "    vis.run()\n",
    "    vis.destroy_window()"
   ]
  },
  {
   "cell_type": "code",
   "execution_count": 151,
   "metadata": {},
   "outputs": [],
   "source": [
    "custom_draw_geometry(pcd)"
   ]
  },
  {
   "cell_type": "code",
   "execution_count": 149,
   "metadata": {},
   "outputs": [],
   "source": [
    "def custom_draw_geometry_load_option(pcd):\n",
    "    vis = o3d.visualization.Visualizer()\n",
    "    vis.create_window()\n",
    "    vis.add_geometry(pcd)\n",
    "    vis.get_render_option().load_from_json(\"./visual/renderoption.json\")\n",
    "    vis.run()\n",
    "    vis.destroy_window()"
   ]
  },
  {
   "cell_type": "code",
   "execution_count": 155,
   "metadata": {},
   "outputs": [],
   "source": [
    "custom_draw_geometry_load_option(pcd)"
   ]
  },
  {
   "cell_type": "code",
   "execution_count": 153,
   "metadata": {},
   "outputs": [],
   "source": [
    "def custom_draw_geometry_with_custom_fov(pcd, fov_step):\n",
    "    vis = o3d.visualization.Visualizer()\n",
    "    vis.create_window()\n",
    "    vis.add_geometry(pcd)\n",
    "    ctr = vis.get_view_control()\n",
    "    print(\"Field of view (before changing) %.2f\" % ctr.get_field_of_view())\n",
    "    ctr.change_field_of_view(step=fov_step)\n",
    "    print(\"Field of view (after changing) %.2f\" % ctr.get_field_of_view())\n",
    "    vis.run()\n",
    "    vis.destroy_window()"
   ]
  },
  {
   "cell_type": "code",
   "execution_count": 164,
   "metadata": {},
   "outputs": [
    {
     "name": "stdout",
     "output_type": "stream",
     "text": [
      "Field of view (before changing) 60.00\n",
      "Field of view (after changing) 90.00\n",
      "Field of view (before changing) 60.00\n",
      "Field of view (after changing) 5.00\n"
     ]
    }
   ],
   "source": [
    "pcd = o3d.io.read_point_cloud(\"./data/xw_a.ply\")\n",
    "o3d.visualization.draw_geometries([pcd])\n",
    "custom_draw_geometry_with_custom_fov(pcd, 120.0)\n",
    "o3d.visualization.draw_geometries([pcd])\n",
    "custom_draw_geometry_with_custom_fov(pcd, -90.0)"
   ]
  },
  {
   "cell_type": "code",
   "execution_count": 165,
   "metadata": {},
   "outputs": [],
   "source": [
    "def custom_draw_geometry_with_rotation(pcd):\n",
    "\n",
    "    def rotate_view(vis):\n",
    "        ctr = vis.get_view_control()\n",
    "        ctr.rotate(10.0, 0.0)\n",
    "        return False\n",
    "\n",
    "    o3d.visualization.draw_geometries_with_animation_callback([pcd], rotate_view)"
   ]
  },
  {
   "cell_type": "code",
   "execution_count": 171,
   "metadata": {},
   "outputs": [],
   "source": [
    "def custom_draw_geometry_with_camera_trajectory(pcd):\n",
    "    custom_draw_geometry_with_camera_trajectory.index = -1\n",
    "    custom_draw_geometry_with_camera_trajectory.trajectory =\\\n",
    "            o3d.io.read_pinhole_camera_trajectory(\n",
    "                    \"./visual/camera_trajectory.json\")\n",
    "    custom_draw_geometry_with_camera_trajectory.vis = o3d.visualization.Visualizer(\n",
    "    )\n",
    "    if not os.path.exists(\"./visual/image/\"):\n",
    "        os.makedirs(\"./visual/image/\")\n",
    "    if not os.path.exists(\"./visual/depth/\"):\n",
    "        os.makedirs(\"./visual/depth/\")\n",
    "\n",
    "    def move_forward(vis):\n",
    "        # This function is called within the o3d.visualization.Visualizer::run() loop\n",
    "        # The run loop calls the function, then re-render\n",
    "        # So the sequence in this function is to:\n",
    "        # 1. Capture frame\n",
    "        # 2. index++, check ending criteria\n",
    "        # 3. Set camera\n",
    "        # 4. (Re-render)\n",
    "        ctr = vis.get_view_control()\n",
    "        glb = custom_draw_geometry_with_camera_trajectory\n",
    "        if glb.index >= 0:\n",
    "            print(\"Capture image {:05d}\".format(glb.index))\n",
    "            depth = vis.capture_depth_float_buffer(False)\n",
    "            image = vis.capture_screen_float_buffer(False)\n",
    "            plt.imsave(\"./visual/depth/{:05d}.png\".format(glb.index),\\\n",
    "                    np.asarray(depth), dpi = 1)\n",
    "            plt.imsave(\"./visual/image/{:05d}.png\".format(glb.index),\\\n",
    "                    np.asarray(image), dpi = 1)\n",
    "            #vis.capture_depth_image(\"depth/{:05d}.png\".format(glb.index), False)\n",
    "            #vis.capture_screen_image(\"image/{:05d}.png\".format(glb.index), False)\n",
    "        glb.index = glb.index + 1\n",
    "        if glb.index < len(glb.trajectory.parameters):\n",
    "            ctr.convert_from_pinhole_camera_parameters(\n",
    "                glb.trajectory.parameters[glb.index])\n",
    "        else:\n",
    "            custom_draw_geometry_with_camera_trajectory.vis.\\\n",
    "                    register_animation_callback(None)\n",
    "        return False\n",
    "\n",
    "    vis = custom_draw_geometry_with_camera_trajectory.vis\n",
    "    vis.create_window()\n",
    "    vis.add_geometry(pcd)\n",
    "    #vis.get_render_option().load_from_json(\"./visual/renderoption.json\")\n",
    "    vis.register_animation_callback(move_forward)\n",
    "    vis.run()\n",
    "    vis.destroy_window()"
   ]
  },
  {
   "cell_type": "code",
   "execution_count": 172,
   "metadata": {},
   "outputs": [],
   "source": [
    "import os\n",
    "custom_draw_geometry_with_camera_trajectory(pcd)"
   ]
  },
  {
   "cell_type": "markdown",
   "metadata": {},
   "source": [
    "## 切り取り"
   ]
  },
  {
   "cell_type": "code",
   "execution_count": 137,
   "metadata": {},
   "outputs": [
    {
     "ename": "TypeError",
     "evalue": "create_from_points(): incompatible function arguments. The following argument types are supported:\n    1. (points: open3d.open3d.utility.Vector3dVector) -> open3d.open3d.geometry.OrientedBoundingBox\n\nInvoked with: geometry::PointCloud with 57932 points.",
     "output_type": "error",
     "traceback": [
      "\u001b[0;31m---------------------------------------------------------------------------\u001b[0m",
      "\u001b[0;31mTypeError\u001b[0m                                 Traceback (most recent call last)",
      "\u001b[0;32m<ipython-input-137-f1e1d84ea493>\u001b[0m in \u001b[0;36m<module>\u001b[0;34m\u001b[0m\n\u001b[1;32m      1\u001b[0m \u001b[0mpcd\u001b[0m \u001b[0;34m=\u001b[0m \u001b[0mo3d\u001b[0m\u001b[0;34m.\u001b[0m\u001b[0mio\u001b[0m\u001b[0;34m.\u001b[0m\u001b[0mread_point_cloud\u001b[0m\u001b[0;34m(\u001b[0m\u001b[0;34m\"./data/xw_a.ply\"\u001b[0m\u001b[0;34m)\u001b[0m        \u001b[0;31m# read\u001b[0m\u001b[0;34m\u001b[0m\u001b[0;34m\u001b[0m\u001b[0m\n\u001b[0;32m----> 2\u001b[0;31m \u001b[0mo3d\u001b[0m\u001b[0;34m.\u001b[0m\u001b[0mgeometry\u001b[0m\u001b[0;34m.\u001b[0m\u001b[0mOrientedBoundingBox\u001b[0m\u001b[0;34m.\u001b[0m\u001b[0mcreate_from_points\u001b[0m\u001b[0;34m(\u001b[0m\u001b[0mpcd\u001b[0m\u001b[0;34m)\u001b[0m\u001b[0;34m\u001b[0m\u001b[0;34m\u001b[0m\u001b[0m\n\u001b[0m",
      "\u001b[0;31mTypeError\u001b[0m: create_from_points(): incompatible function arguments. The following argument types are supported:\n    1. (points: open3d.open3d.utility.Vector3dVector) -> open3d.open3d.geometry.OrientedBoundingBox\n\nInvoked with: geometry::PointCloud with 57932 points."
     ]
    }
   ],
   "source": [
    "pcd = o3d.io.read_point_cloud(\"./data/xw_a.ply\")        # read\n",
    "o3d.geometry.OrientedBoundingBox.create_from_points(pcd)"
   ]
  },
  {
   "cell_type": "code",
   "execution_count": null,
   "metadata": {},
   "outputs": [],
   "source": []
  }
 ],
 "metadata": {
  "kernelspec": {
   "display_name": "Python 3",
   "language": "python",
   "name": "python3"
  },
  "language_info": {
   "codemirror_mode": {
    "name": "ipython",
    "version": 3
   },
   "file_extension": ".py",
   "mimetype": "text/x-python",
   "name": "python",
   "nbconvert_exporter": "python",
   "pygments_lexer": "ipython3",
   "version": "3.7.6"
  }
 },
 "nbformat": 4,
 "nbformat_minor": 2
}
